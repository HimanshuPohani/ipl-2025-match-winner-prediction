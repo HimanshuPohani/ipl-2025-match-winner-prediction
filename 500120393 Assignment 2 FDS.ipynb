{
 "cells": [
  {
   "cell_type": "code",
   "execution_count": 6,
   "id": "e618ed67-a902-433b-9ba7-c59a5bd48f43",
   "metadata": {},
   "outputs": [
    {
     "name": "stderr",
     "output_type": "stream",
     "text": [
      "D:\\Anaconda\\Lib\\site-packages\\sklearn\\linear_model\\_logistic.py:469: ConvergenceWarning: lbfgs failed to converge (status=1):\n",
      "STOP: TOTAL NO. of ITERATIONS REACHED LIMIT.\n",
      "\n",
      "Increase the number of iterations (max_iter) or scale the data as shown in:\n",
      "    https://scikit-learn.org/stable/modules/preprocessing.html\n",
      "Please also refer to the documentation for alternative solver options:\n",
      "    https://scikit-learn.org/stable/modules/linear_model.html#logistic-regression\n",
      "  n_iter_i = _check_optimize_result(\n"
     ]
    },
    {
     "name": "stdout",
     "output_type": "stream",
     "text": [
      "\n",
      "Available options for Venue:\n",
      "1. ACA-VDCA Cricket Stadium, Vishakhapatnam\n",
      "2. Barsapara Stadium, Guwahati\n",
      "3. Eden Gardens, Kolkata\n",
      "4. Ekana Cricket Stadium, Lucknow\n",
      "5. M. Chinnaswamy Stadium, Bangalore\n",
      "6. MA Chidambaram Stadium, Chennai\n",
      "7. Narendra Modi Stadium, Ahmedabad\n",
      "8. New PCA Cricket Stadium, Mullanpur\n",
      "9. Rajiv Gandhi International Stadium, Hyderabad\n",
      "10. Wankhede Stadium\n",
      "11. M. A. Chidambaram Stadium, Chennai\n",
      "12. Arun Jaitley Stadium, Delhi\n",
      "13. Wankhede Stadium, Mumbai\n",
      "14. Sawai Mansingh Stadium, Jaipur\n",
      "15. M. Chinnaswamy Stadium, Bengaluru\n",
      "16. Punjab Cricket Association IS Bindra Stadium, Mohali\n",
      "17. Dr. Y.S. Rajasekhara Reddy ACA–VDCA Stadium, Visakhapatnam\n",
      "18. Barsapara Cricket Stadium, Guwahati\n",
      "19. Himachal Pradesh Cricket Association Stadium, Dharamsala\n",
      "20. Holkar Cricket Stadium, Indore\n",
      "21. Greenfield International Stadium, Thiruvananthapuram\n"
     ]
    },
    {
     "name": "stdin",
     "output_type": "stream",
     "text": [
      "Enter exact Venue:  Sawai Mansingh Stadium, Jaipur\n"
     ]
    },
    {
     "name": "stdout",
     "output_type": "stream",
     "text": [
      "\n",
      "Available options for Toss Winner:\n",
      "1. CSK\n",
      "2. DC\n",
      "3. GT\n",
      "4. KKR\n",
      "5. LSG\n",
      "6. MI\n",
      "7. PBKS\n",
      "8. RCB\n",
      "9. RR\n",
      "10. SRH\n"
     ]
    },
    {
     "name": "stdin",
     "output_type": "stream",
     "text": [
      "Enter exact Toss Winner:  RCB\n"
     ]
    },
    {
     "name": "stdout",
     "output_type": "stream",
     "text": [
      "\n",
      "Available options for Toss Decision:\n",
      "1. Bat\n",
      "2. Bowl\n"
     ]
    },
    {
     "name": "stdin",
     "output_type": "stream",
     "text": [
      "Enter exact Toss Decision:  Bowl\n"
     ]
    },
    {
     "name": "stdout",
     "output_type": "stream",
     "text": [
      "\n",
      "Available options for Team 1:\n",
      "1. CSK\n",
      "2. DC\n",
      "3. GT\n",
      "4. KKR\n",
      "5. LSG\n",
      "6. MI\n",
      "7. PBKS\n",
      "8. RCB\n",
      "9. RR\n",
      "10. SRH\n"
     ]
    },
    {
     "name": "stdin",
     "output_type": "stream",
     "text": [
      "Enter exact Team 1:  RR\n"
     ]
    },
    {
     "name": "stdout",
     "output_type": "stream",
     "text": [
      "\n",
      "Available options for Team 2:\n",
      "1. CSK\n",
      "2. DC\n",
      "3. GT\n",
      "4. KKR\n",
      "5. LSG\n",
      "6. MI\n",
      "7. PBKS\n",
      "8. RCB\n",
      "9. RR\n",
      "10. SRH\n"
     ]
    },
    {
     "name": "stdin",
     "output_type": "stream",
     "text": [
      "Enter exact Team 2:  RCB\n",
      "\n",
      "Enter First Innings Score:  173\n",
      "Enter First Innings Wickets:  4\n"
     ]
    },
    {
     "name": "stdout",
     "output_type": "stream",
     "text": [
      "\n",
      "🏆 Predicted Winning Team: RR\n"
     ]
    },
    {
     "name": "stderr",
     "output_type": "stream",
     "text": [
      "D:\\Anaconda\\Lib\\site-packages\\sklearn\\base.py:493: UserWarning: X does not have valid feature names, but LogisticRegression was fitted with feature names\n",
      "  warnings.warn(\n"
     ]
    }
   ],
   "source": [
    "import pandas as pd\n",
    "from sklearn.model_selection import train_test_split\n",
    "from sklearn.preprocessing import LabelEncoder\n",
    "from sklearn.linear_model import LogisticRegression\n",
    "import numpy as np\n",
    "\n",
    "\n",
    "matches = pd.read_csv(\"matches.csv\")\n",
    "\n",
    "\n",
    "cols = ['venue', 'toss_winner', 'toss_decision', 'team1', 'team2',\n",
    "        'first_ings_score', 'first_ings_wkts', 'match_winner']\n",
    "matches = matches[cols].dropna()\n",
    "\n",
    "\n",
    "label_encoders = {}\n",
    "for col in ['venue', 'toss_winner', 'toss_decision', 'team1', 'team2', 'match_winner']:\n",
    "    le = LabelEncoder()\n",
    "    matches[col] = le.fit_transform(matches[col])\n",
    "    label_encoders[col] = le\n",
    "\n",
    "\n",
    "X = matches.drop('match_winner', axis=1)\n",
    "y = matches['match_winner']\n",
    "\n",
    "\n",
    "final_features = ['venue', 'toss_winner', 'toss_decision', 'team1', 'team2',\n",
    "                  'first_ings_score', 'first_ings_wkts']\n",
    "X_final = matches[final_features]\n",
    "y_final = y\n",
    "\n",
    "\n",
    "X_train, X_test, y_train, y_test = train_test_split(X_final, y_final, test_size=0.2, random_state=42)\n",
    "\n",
    "\n",
    "final_model = LogisticRegression(max_iter=1000)\n",
    "final_model.fit(X_train, y_train)\n",
    "\n",
    "\n",
    "\n",
    "\n",
    "\n",
    "full_venues = [\n",
    "    \"ACA-VDCA Cricket Stadium, Vishakhapatnam\",\n",
    "    \"Barsapara Stadium, Guwahati\",\n",
    "    \"Eden Gardens, Kolkata\",\n",
    "    \"Ekana Cricket Stadium, Lucknow\",\n",
    "    \"M. Chinnaswamy Stadium, Bangalore\",\n",
    "    \"MA Chidambaram Stadium, Chennai\",\n",
    "    \"Narendra Modi Stadium, Ahmedabad\",\n",
    "    \"New PCA Cricket Stadium, Mullanpur\",\n",
    "    \"Rajiv Gandhi International Stadium, Hyderabad\",\n",
    "    \"Wankhede Stadium\",\n",
    "    \"M. A. Chidambaram Stadium, Chennai\",\n",
    "    \"Arun Jaitley Stadium, Delhi\",\n",
    "    \"Wankhede Stadium, Mumbai\",\n",
    "    \"Sawai Mansingh Stadium, Jaipur\",\n",
    "    \"M. Chinnaswamy Stadium, Bengaluru\",\n",
    "    \"Punjab Cricket Association IS Bindra Stadium, Mohali\",\n",
    "    \"Dr. Y.S. Rajasekhara Reddy ACA–VDCA Stadium, Visakhapatnam\",\n",
    "    \"Barsapara Cricket Stadium, Guwahati\",\n",
    "    \"Himachal Pradesh Cricket Association Stadium, Dharamsala\",\n",
    "    \"Holkar Cricket Stadium, Indore\",\n",
    "    \"Greenfield International Stadium, Thiruvananthapuram\"\n",
    "]\n",
    "\n",
    "\n",
    "def get_input_with_choices(field_name, choices):\n",
    "    print(f\"\\nAvailable options for {field_name}:\")\n",
    "    for idx, choice in enumerate(choices):\n",
    "        print(f\"{idx+1}. {choice}\")\n",
    "    while True:\n",
    "        user_input = input(f\"Enter exact {field_name}: \").strip()\n",
    "        if user_input in choices:\n",
    "            return user_input\n",
    "        else:\n",
    "            print(\"❌ Invalid input! Please choose from the list above.\")\n",
    "\n",
    "\n",
    "test_input = {}\n",
    "test_input['venue'] = get_input_with_choices(\"Venue\", full_venues)\n",
    "test_input['toss_winner'] = get_input_with_choices(\"Toss Winner\", list(label_encoders['toss_winner'].classes_))\n",
    "test_input['toss_decision'] = get_input_with_choices(\"Toss Decision\", list(label_encoders['toss_decision'].classes_))\n",
    "test_input['team1'] = get_input_with_choices(\"Team 1\", list(label_encoders['team1'].classes_))\n",
    "test_input['team2'] = get_input_with_choices(\"Team 2\", list(label_encoders['team2'].classes_))\n",
    "test_input['first_ings_score'] = int(input(\"\\nEnter First Innings Score: \"))\n",
    "test_input['first_ings_wkts'] = int(input(\"Enter First Innings Wickets: \"))\n",
    "\n",
    "\n",
    "encoded_input = []\n",
    "for feature in final_features:\n",
    "    if feature in label_encoders:\n",
    "        le = label_encoders[feature]\n",
    "        if test_input[feature] in le.classes_:\n",
    "            val_encoded = le.transform([test_input[feature]])[0]\n",
    "        else:\n",
    "\n",
    "            val_encoded = 0\n",
    "        encoded_input.append(val_encoded)\n",
    "    else:\n",
    "        encoded_input.append(test_input[feature])\n",
    "\n",
    "\n",
    "\n",
    "\n",
    "proba = final_model.predict_proba([encoded_input])[0]\n",
    "classes = final_model.classes_\n",
    "\n",
    "\n",
    "team1_encoded = label_encoders['match_winner'].transform([test_input['team1']])[0]\n",
    "team2_encoded = label_encoders['match_winner'].transform([test_input['team2']])[0]\n",
    "\n",
    "\n",
    "team1_proba = proba[list(classes).index(team1_encoded)]\n",
    "team2_proba = proba[list(classes).index(team2_encoded)]\n",
    "\n",
    "\n",
    "pred_encoded = team1_encoded if team1_proba >= team2_proba else team2_encoded\n",
    "winner = label_encoders['match_winner'].inverse_transform([pred_encoded])[0]\n",
    "\n",
    "print(f\"\\n🏆 Predicted Winning Team: {winner}\")\n"
   ]
  },
  {
   "cell_type": "code",
   "execution_count": null,
   "id": "a707c829-bc8d-4903-9fbb-f493d70d90a8",
   "metadata": {},
   "outputs": [],
   "source": []
  }
 ],
 "metadata": {
  "kernelspec": {
   "display_name": "Python 3 (ipykernel)",
   "language": "python",
   "name": "python3"
  },
  "language_info": {
   "codemirror_mode": {
    "name": "ipython",
    "version": 3
   },
   "file_extension": ".py",
   "mimetype": "text/x-python",
   "name": "python",
   "nbconvert_exporter": "python",
   "pygments_lexer": "ipython3",
   "version": "3.12.4"
  }
 },
 "nbformat": 4,
 "nbformat_minor": 5
}
